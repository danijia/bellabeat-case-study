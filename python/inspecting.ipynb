{
 "cells": [
  {
   "cell_type": "markdown",
   "id": "899f015b",
   "metadata": {},
   "source": [
    "Import Pandas, then read csv"
   ]
  },
  {
   "cell_type": "code",
   "execution_count": null,
   "id": "b9938132",
   "metadata": {},
   "outputs": [],
   "source": [
    "import pandas as pd\n",
    "import numpy as np\n",
    "\n",
    "df = pd.read_csv('/Users/xanijia/Desktop/bellabeat_case_study/data/fitabase_data_3.12.16_to_4.11.16/dailyActivity_merged.csv')"
   ]
  },
  {
   "cell_type": "markdown",
   "id": "634def02",
   "metadata": {},
   "source": [
    "find all unique users "
   ]
  },
  {
   "cell_type": "code",
   "execution_count": null,
   "id": "7371b273",
   "metadata": {},
   "outputs": [],
   "source": [
    "unique_users = df['Id'].unique()\n",
    "\n",
    "print(unique_users)"
   ]
  }
 ],
 "metadata": {
  "kernelspec": {
   "display_name": ".venv",
   "language": "python",
   "name": "python3"
  },
  "language_info": {
   "codemirror_mode": {
    "name": "ipython",
    "version": 3
   },
   "file_extension": ".py",
   "mimetype": "text/x-python",
   "name": "python",
   "nbconvert_exporter": "python",
   "pygments_lexer": "ipython3",
   "version": "3.9.6"
  }
 },
 "nbformat": 4,
 "nbformat_minor": 5
}
